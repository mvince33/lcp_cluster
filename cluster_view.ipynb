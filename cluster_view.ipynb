{
 "cells": [
  {
   "cell_type": "code",
   "execution_count": 7,
   "id": "0fde17e6",
   "metadata": {},
   "outputs": [],
   "source": [
    "# Imports\n",
    "import numpy as np\n",
    "import pandas as pd\n",
    "import matplotlib.pyplot as plt\n",
    "import json\n",
    "from PIL import Image"
   ]
  },
  {
   "cell_type": "code",
   "execution_count": 2,
   "id": "eb3bfeb5",
   "metadata": {},
   "outputs": [
    {
     "data": {
      "text/html": [
       "<div>\n",
       "<style scoped>\n",
       "    .dataframe tbody tr th:only-of-type {\n",
       "        vertical-align: middle;\n",
       "    }\n",
       "\n",
       "    .dataframe tbody tr th {\n",
       "        vertical-align: top;\n",
       "    }\n",
       "\n",
       "    .dataframe thead th {\n",
       "        text-align: right;\n",
       "    }\n",
       "</style>\n",
       "<table border=\"1\" class=\"dataframe\">\n",
       "  <thead>\n",
       "    <tr style=\"text-align: right;\">\n",
       "      <th></th>\n",
       "      <th>vessel_ID</th>\n",
       "      <th>image_ID</th>\n",
       "      <th>labels</th>\n",
       "    </tr>\n",
       "  </thead>\n",
       "  <tbody>\n",
       "    <tr>\n",
       "      <th>0</th>\n",
       "      <td>18688</td>\n",
       "      <td>15819</td>\n",
       "      <td>1</td>\n",
       "    </tr>\n",
       "    <tr>\n",
       "      <th>1</th>\n",
       "      <td>17496</td>\n",
       "      <td>13961</td>\n",
       "      <td>2</td>\n",
       "    </tr>\n",
       "    <tr>\n",
       "      <th>2</th>\n",
       "      <td>17334</td>\n",
       "      <td>13780</td>\n",
       "      <td>1</td>\n",
       "    </tr>\n",
       "    <tr>\n",
       "      <th>3</th>\n",
       "      <td>19762</td>\n",
       "      <td>18235</td>\n",
       "      <td>1</td>\n",
       "    </tr>\n",
       "    <tr>\n",
       "      <th>4</th>\n",
       "      <td>28755</td>\n",
       "      <td>40646</td>\n",
       "      <td>2</td>\n",
       "    </tr>\n",
       "  </tbody>\n",
       "</table>\n",
       "</div>"
      ],
      "text/plain": [
       "   vessel_ID  image_ID  labels\n",
       "0      18688     15819       1\n",
       "1      17496     13961       2\n",
       "2      17334     13780       1\n",
       "3      19762     18235       1\n",
       "4      28755     40646       2"
      ]
     },
     "metadata": {},
     "output_type": "display_data"
    },
    {
     "data": {
      "text/html": [
       "<div>\n",
       "<style scoped>\n",
       "    .dataframe tbody tr th:only-of-type {\n",
       "        vertical-align: middle;\n",
       "    }\n",
       "\n",
       "    .dataframe tbody tr th {\n",
       "        vertical-align: top;\n",
       "    }\n",
       "\n",
       "    .dataframe thead th {\n",
       "        text-align: right;\n",
       "    }\n",
       "</style>\n",
       "<table border=\"1\" class=\"dataframe\">\n",
       "  <thead>\n",
       "    <tr style=\"text-align: right;\">\n",
       "      <th></th>\n",
       "      <th>vessel_ID</th>\n",
       "      <th>image_ID</th>\n",
       "      <th>labels</th>\n",
       "    </tr>\n",
       "  </thead>\n",
       "  <tbody>\n",
       "    <tr>\n",
       "      <th>0</th>\n",
       "      <td>18688</td>\n",
       "      <td>15819</td>\n",
       "      <td>2</td>\n",
       "    </tr>\n",
       "    <tr>\n",
       "      <th>1</th>\n",
       "      <td>17496</td>\n",
       "      <td>13961</td>\n",
       "      <td>0</td>\n",
       "    </tr>\n",
       "    <tr>\n",
       "      <th>2</th>\n",
       "      <td>17334</td>\n",
       "      <td>13780</td>\n",
       "      <td>2</td>\n",
       "    </tr>\n",
       "    <tr>\n",
       "      <th>3</th>\n",
       "      <td>19762</td>\n",
       "      <td>18235</td>\n",
       "      <td>2</td>\n",
       "    </tr>\n",
       "    <tr>\n",
       "      <th>4</th>\n",
       "      <td>28755</td>\n",
       "      <td>40646</td>\n",
       "      <td>1</td>\n",
       "    </tr>\n",
       "  </tbody>\n",
       "</table>\n",
       "</div>"
      ],
      "text/plain": [
       "   vessel_ID  image_ID  labels\n",
       "0      18688     15819       2\n",
       "1      17496     13961       0\n",
       "2      17334     13780       2\n",
       "3      19762     18235       2\n",
       "4      28755     40646       1"
      ]
     },
     "metadata": {},
     "output_type": "display_data"
    }
   ],
   "source": [
    "# Get the cluster labels and ids\n",
    "df3 = pd.read_csv('three_cluster_model_labels.csv')\n",
    "df3.drop(columns = 'Unnamed: 0', inplace = True)\n",
    "df4 = pd.read_csv('four_cluster_model_labels.csv')\n",
    "df4.drop(columns = 'Unnamed: 0', inplace = True)\n",
    "display(df3.head(), df4.head())"
   ]
  },
  {
   "cell_type": "code",
   "execution_count": 3,
   "id": "730c1138",
   "metadata": {},
   "outputs": [],
   "source": [
    "# Create displays of random images by cluster for the three cluster model\n",
    "cluster_labels = df3['labels'].unique()\n",
    "for label in cluster_labels:\n",
    "    temp = df3[df3['labels'] == label].sample(30)\n",
    "    images = []\n",
    "    for index in temp.index:\n",
    "        filename = 'drawing_' + str(df3.loc[index, 'vessel_ID'])\n",
    "        filename = filename + '_' + str(df3.loc[index, 'image_ID'])\n",
    "        filename = '../images/' + filename + '.jpg'\n",
    "        with Image.open(filename) as img:\n",
    "            img.thumbnail((256, 256))\n",
    "            img = img.convert(mode = 'RGB')\n",
    "            images.append(img)\n",
    "    new_img = Image.new('RGB', (1536, 1280))\n",
    "    for i in range(30):\n",
    "        x = (i % 6) * 256\n",
    "        y = (i % 5) * 256\n",
    "        new_img.paste(images[i], (x, y)) \n",
    "    new_img.save(f'images/three_cluster_visual_{label}.jpg')"
   ]
  },
  {
   "cell_type": "code",
   "execution_count": 5,
   "id": "da5c4ca9",
   "metadata": {},
   "outputs": [],
   "source": [
    "# Create displays of random images by cluster for the four cluster model\n",
    "cluster_labels = df4['labels'].unique()\n",
    "for label in cluster_labels:\n",
    "    temp = df4[df4['labels'] == label].sample(30)\n",
    "    images = []\n",
    "    for index in temp.index:\n",
    "        filename = 'drawing_' + str(df4.loc[index, 'vessel_ID'])\n",
    "        filename = filename + '_' + str(df4.loc[index, 'image_ID'])\n",
    "        filename = '../images/' + filename + '.jpg'\n",
    "        with Image.open(filename) as img:\n",
    "            img.thumbnail((256, 256))\n",
    "            img = img.convert(mode = 'RGB')\n",
    "            images.append(img)\n",
    "    new_img = Image.new('RGB', (1536, 1280))\n",
    "    for i in range(30):\n",
    "        x = (i % 6) * 256\n",
    "        y = (i % 5) * 256\n",
    "        new_img.paste(images[i], (x, y)) \n",
    "    new_img.save(f'images/four_cluster_visual_{label}.jpg')"
   ]
  },
  {
   "cell_type": "code",
   "execution_count": 18,
   "id": "911effa8",
   "metadata": {},
   "outputs": [],
   "source": [
    "# Get the data from the vessels.json file\n",
    "with open('../lcp_data/vessels.json') as f:\n",
    "    vessels_df = pd.DataFrame(json.load(f))"
   ]
  },
  {
   "cell_type": "code",
   "execution_count": 20,
   "id": "af3ebce2",
   "metadata": {},
   "outputs": [
    {
     "name": "stdout",
     "output_type": "stream",
     "text": [
      "<class 'pandas.core.frame.DataFrame'>\n",
      "RangeIndex: 16717 entries, 0 to 16716\n",
      "Data columns (total 52 columns):\n",
      " #   Column                   Non-Null Count  Dtype  \n",
      "---  ------                   --------------  -----  \n",
      " 0   id                       16717 non-null  int64  \n",
      " 1   category                 560 non-null    object \n",
      " 2   chron                    13837 non-null  object \n",
      " 3   uid                      560 non-null    object \n",
      " 4   site                     16699 non-null  object \n",
      " 5   site_ref                 0 non-null      object \n",
      " 6   ware_id                  9303 non-null   float64\n",
      " 7   created_at               16717 non-null  object \n",
      " 8   updated_at               16717 non-null  object \n",
      " 9   inventory_number         16717 non-null  object \n",
      " 10  shape_id                 15638 non-null  float64\n",
      " 11  funct_cat                7631 non-null   object \n",
      " 12  shape_sub_group          13389 non-null  object \n",
      " 13  shape_rtype              13391 non-null  object \n",
      " 14  shape_sub_type           560 non-null    object \n",
      " 15  user_id                  16666 non-null  float64\n",
      " 16  old_region_id            255 non-null    float64\n",
      " 17  pub_ref                  560 non-null    object \n",
      " 18  color                    13911 non-null  object \n",
      " 19  firing                   13548 non-null  object \n",
      " 20  surface_treatment        13919 non-null  object \n",
      " 21  manu_tech                16717 non-null  object \n",
      " 22  arch_context             13990 non-null  object \n",
      " 23  privacy_status           16717 non-null  int64  \n",
      " 24  site_type                13999 non-null  object \n",
      " 25  period                   8390 non-null   object \n",
      " 26  ware_visual_desc         96 non-null     object \n",
      " 27  petrofab_visual_desc     9376 non-null   object \n",
      " 28  petrofabric_id           5073 non-null   float64\n",
      " 29  start_year               10728 non-null  float64\n",
      " 30  end_year                 10728 non-null  float64\n",
      " 31  references_data          5573 non-null   object \n",
      " 32  thickness                16706 non-null  object \n",
      " 33  height                   3882 non-null   object \n",
      " 34  preserved_height         15598 non-null  object \n",
      " 35  true_height              13933 non-null  object \n",
      " 36  diameter_rim             4388 non-null   object \n",
      " 37  estimated_diameter_rim   13233 non-null  object \n",
      " 38  true_diameter_rim        15786 non-null  object \n",
      " 39  max_diameter             9553 non-null   object \n",
      " 40  estimated_max_diameter   16626 non-null  object \n",
      " 41  true_max_diameter        16591 non-null  object \n",
      " 42  diameter_base            1289 non-null   object \n",
      " 43  estimated_diameter_base  15588 non-null  object \n",
      " 44  true_diameter_base       16546 non-null  object \n",
      " 45  slug                     16717 non-null  object \n",
      " 46  acknowledgement          11910 non-null  object \n",
      " 47  site_id                  16699 non-null  float64\n",
      " 48  functional_category_id   13138 non-null  float64\n",
      " 49  old_shape_name           8034 non-null   object \n",
      " 50  has_petrography          16717 non-null  bool   \n",
      " 51  discarded_at             0 non-null      object \n",
      "dtypes: bool(1), float64(9), int64(2), object(40)\n",
      "memory usage: 6.5+ MB\n"
     ]
    }
   ],
   "source": [
    "# Explore the vessels data\n",
    "vessels_df.info()"
   ]
  },
  {
   "cell_type": "code",
   "execution_count": 27,
   "id": "ff6f8f9b",
   "metadata": {},
   "outputs": [
    {
     "data": {
      "text/plain": [
       "                                    2722\n",
       "1015-960 BCE                         240\n",
       "3rd - 2nd century BCE                238\n",
       "650-700 CE                           156\n",
       "2nd century BCE - 1st century CE     150\n",
       "1st c. CE                            138\n",
       "2nd century BCE                      135\n",
       "c. 6th-5th BCE                       125\n",
       "Mid 10th - 9th c. BCE                107\n",
       "3rd-2nd century BCE                  104\n",
       "3rd -1st century BCE                 102\n",
       "1st century - 2nd century CE         101\n",
       "2nd c. BCE                            97\n",
       "c. 16th-15th c. BCE                   96\n",
       "1600-1550 BCE                         89\n",
       "2nd-1st century BCE                   89\n",
       "mid-6th c. BCE                        87\n",
       "7-6th century BCE                     84\n",
       "37 BCE- 70 BC                         82\n",
       "6400-6000 BCE                         82\n",
       "Name: chron, dtype: int64"
      ]
     },
     "metadata": {},
     "output_type": "display_data"
    }
   ],
   "source": [
    "# Try to figure out what chron is.\n",
    "display(vessels_df['chron'].value_counts().head(20))"
   ]
  },
  {
   "cell_type": "code",
   "execution_count": 35,
   "id": "a5c8bc37",
   "metadata": {},
   "outputs": [
    {
     "data": {
      "text/plain": [
       "0.0     15241\n",
       "0.5       209\n",
       "0.4       205\n",
       "0.6       148\n",
       "0.7       136\n",
       "        ...  \n",
       "1.06        1\n",
       "0.63        1\n",
       "0.77        1\n",
       "0.87        1\n",
       "9.0         1\n",
       "Name: thickness, Length: 93, dtype: int64"
      ]
     },
     "metadata": {},
     "output_type": "display_data"
    },
    {
     "data": {
      "text/plain": [
       "preserved    2777\n",
       "true         1105\n",
       "Name: height, dtype: int64"
      ]
     },
     "metadata": {},
     "output_type": "display_data"
    },
    {
     "data": {
      "text/plain": [
       "0.0      12875\n",
       "4.0        124\n",
       "3.0         83\n",
       "5.0         78\n",
       "4.5         70\n",
       "         ...  \n",
       "23.7         1\n",
       "25.9         1\n",
       "29.3         1\n",
       "130.0        1\n",
       "2.92         1\n",
       "Name: preserved_height, Length: 299, dtype: int64"
      ]
     },
     "metadata": {},
     "output_type": "display_data"
    },
    {
     "data": {
      "text/plain": [
       "0.0     12855\n",
       "5.0        31\n",
       "4.0        29\n",
       "4.5        27\n",
       "3.0        26\n",
       "        ...  \n",
       "51.0        1\n",
       "32.2        1\n",
       "46.5        1\n",
       "22.4        1\n",
       "44.4        1\n",
       "Name: true_height, Length: 274, dtype: int64"
      ]
     },
     "metadata": {},
     "output_type": "display_data"
    },
    {
     "data": {
      "text/plain": [
       "true         3476\n",
       "estimated     912\n",
       "Name: diameter_rim, dtype: int64"
      ]
     },
     "metadata": {},
     "output_type": "display_data"
    },
    {
     "data": {
      "text/plain": [
       "0.0     12366\n",
       "10.0       81\n",
       "11.0       42\n",
       "12.0       42\n",
       "9.0        41\n",
       "        ...  \n",
       "10.1        1\n",
       "7.9         1\n",
       "15.9        1\n",
       "2.44        1\n",
       "26.5        1\n",
       "Name: estimated_diameter_rim, Length: 139, dtype: int64"
      ]
     },
     "metadata": {},
     "output_type": "display_data"
    }
   ],
   "source": [
    "# Look at some of the numeric data\n",
    "display(vessels_df['thickness'].value_counts())\n",
    "display(vessels_df['height'].value_counts())\n",
    "display(vessels_df['preserved_height'].value_counts())\n",
    "display(vessels_df['true_height'].value_counts())\n",
    "display(vessels_df['diameter_rim'].value_counts())\n",
    "display(vessels_df['estimated_diameter_rim'].value_counts())"
   ]
  }
 ],
 "metadata": {
  "kernelspec": {
   "display_name": "Python 3 (ipykernel)",
   "language": "python",
   "name": "python3"
  },
  "language_info": {
   "codemirror_mode": {
    "name": "ipython",
    "version": 3
   },
   "file_extension": ".py",
   "mimetype": "text/x-python",
   "name": "python",
   "nbconvert_exporter": "python",
   "pygments_lexer": "ipython3",
   "version": "3.9.12"
  },
  "toc": {
   "base_numbering": 1,
   "nav_menu": {},
   "number_sections": false,
   "sideBar": true,
   "skip_h1_title": false,
   "title_cell": "Table of Contents",
   "title_sidebar": "Contents",
   "toc_cell": false,
   "toc_position": {},
   "toc_section_display": true,
   "toc_window_display": false
  }
 },
 "nbformat": 4,
 "nbformat_minor": 5
}
